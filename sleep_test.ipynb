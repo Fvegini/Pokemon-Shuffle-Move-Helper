{
 "cells": [
  {
   "cell_type": "code",
   "execution_count": 8,
   "metadata": {},
   "outputs": [
    {
     "name": "stdout",
     "output_type": "stream",
     "text": [
      "Running 'START wosb /run /ami /systray tm=\"+0:01:30\" file=\"Notepad\"'\n",
      "Starting Sleep Command at 2024-07-25 14:18:10.056245\n",
      "Sleep Timeout Ended af 2024-07-25 14:19:43.932892\n"
     ]
    }
   ],
   "source": [
    "import time\n",
    "import os\n",
    "from datetime import datetime, timedelta\n",
    "\n",
    "seconds = 90\n",
    "\n",
    "wakeup_time = datetime.now() + timedelta(seconds=seconds)\n",
    "wakeup_time_str = wakeup_time.strftime(\"%H:%M:%S\")\n",
    "wakeup_date_str = wakeup_time.strftime(\"%d/%m/%Y\")\n",
    "wosb_wakeup_str = str(timedelta(seconds=seconds))\n",
    "\n",
    "command = f'START wosb /run /ami /systray tm=\"+{wosb_wakeup_str}\" file=\"Notepad\"'\n",
    "# command = f'START wosb /run /ami /systray tm=\"+{wosb_wakeup_str}\" file=\"cmd.exe\" params=\"/c exit\"'\n",
    "\n",
    "print(f\"Running '{command}'\")\n",
    "os.system(command)\n",
    "\n",
    "print(f\"Starting Sleep Command at {datetime.now()}\") \n",
    "os.system(f\"wosb /standby\")\n",
    "time.sleep(2)\n",
    "print(f\"Sleep Timeout Ended af {datetime.now()}\") "
   ]
  },
  {
   "cell_type": "code",
   "execution_count": null,
   "metadata": {},
   "outputs": [],
   "source": []
  }
 ],
 "metadata": {
  "kernelspec": {
   "display_name": "env",
   "language": "python",
   "name": "python3"
  },
  "language_info": {
   "codemirror_mode": {
    "name": "ipython",
    "version": 3
   },
   "file_extension": ".py",
   "mimetype": "text/x-python",
   "name": "python",
   "nbconvert_exporter": "python",
   "pygments_lexer": "ipython3",
   "version": "3.11.9"
  }
 },
 "nbformat": 4,
 "nbformat_minor": 2
}
